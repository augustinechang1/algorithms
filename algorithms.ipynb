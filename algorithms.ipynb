{
 "cells": [
  {
   "cell_type": "markdown",
   "metadata": {},
   "source": [
    "# 2 sum "
   ]
  },
  {
   "cell_type": "code",
   "execution_count": 140,
   "metadata": {},
   "outputs": [],
   "source": [
    "a = [2, 11, 15, -2]\n",
    "target = 9"
   ]
  },
  {
   "cell_type": "code",
   "execution_count": 141,
   "metadata": {},
   "outputs": [],
   "source": [
    "def twosum(a, target):\n",
    "    l = {}\n",
    "    for i, x in enumerate(a):\n",
    "        if x in l:\n",
    "            return [l[x], i]\n",
    "        else:\n",
    "            l[target - x] = i"
   ]
  },
  {
   "cell_type": "code",
   "execution_count": 142,
   "metadata": {},
   "outputs": [
    {
     "data": {
      "text/plain": [
       "[1, 3]"
      ]
     },
     "execution_count": 142,
     "metadata": {},
     "output_type": "execute_result"
    }
   ],
   "source": [
    "twosum(a, target)"
   ]
  },
  {
   "cell_type": "markdown",
   "metadata": {},
   "source": [
    "# Longest Prefix"
   ]
  },
  {
   "cell_type": "code",
   "execution_count": 161,
   "metadata": {},
   "outputs": [],
   "source": [
    "class Solution:\n",
    "    def longestCommonPrefix(self, strs):\n",
    "        if not strs:\n",
    "            return \"\"\n",
    "        \n",
    "        shortest = min(strs, key=len)\n",
    "        \n",
    "        for i, x in enumerate(shortest):\n",
    "            for y in strs:\n",
    "                if y[i] != x:\n",
    "                    return shortest[:i]\n",
    "        \n",
    "        return shortest"
   ]
  },
  {
   "cell_type": "markdown",
   "metadata": {},
   "source": [
    "# Palindrome Number"
   ]
  },
  {
   "cell_type": "code",
   "execution_count": 159,
   "metadata": {},
   "outputs": [],
   "source": [
    "class Solution:\n",
    "    # @param x, an integer\n",
    "    # @return a boolean\n",
    "    def isPalindrome(self, x):\n",
    "        if x < 0:\n",
    "            return False\n",
    "\n",
    "        ranger = 1\n",
    "        while x / ranger >= 10:\n",
    "            ranger *= 10\n",
    "\n",
    "        while x:\n",
    "            left = x / ranger\n",
    "            right = x % 10\n",
    "            if left != right:\n",
    "                return False\n",
    "            \n",
    "            x = (x % ranger) / 10\n",
    "            ranger /= 100\n",
    "\n",
    "        return True"
   ]
  },
  {
   "cell_type": "code",
   "execution_count": 157,
   "metadata": {},
   "outputs": [],
   "source": [
    "a = Solution()"
   ]
  },
  {
   "cell_type": "code",
   "execution_count": 158,
   "metadata": {},
   "outputs": [
    {
     "data": {
      "text/plain": [
       "False"
      ]
     },
     "execution_count": 158,
     "metadata": {},
     "output_type": "execute_result"
    }
   ],
   "source": [
    "a.isPalindrome(121)"
   ]
  },
  {
   "cell_type": "markdown",
   "metadata": {},
   "source": [
    "# 3 sum "
   ]
  },
  {
   "cell_type": "code",
   "execution_count": 143,
   "metadata": {},
   "outputs": [],
   "source": [
    "lst = [-4, -1, -1, 0, 1, 2]"
   ]
  },
  {
   "cell_type": "code",
   "execution_count": 144,
   "metadata": {},
   "outputs": [],
   "source": [
    "lst.sort()"
   ]
  },
  {
   "cell_type": "code",
   "execution_count": 145,
   "metadata": {},
   "outputs": [
    {
     "data": {
      "text/plain": [
       "[-4, -1, -1, 0, 1, 2]"
      ]
     },
     "execution_count": 145,
     "metadata": {},
     "output_type": "execute_result"
    }
   ],
   "source": [
    "lst"
   ]
  },
  {
   "cell_type": "code",
   "execution_count": 87,
   "metadata": {},
   "outputs": [
    {
     "name": "stdout",
     "output_type": "stream",
     "text": [
      "[[-1, -1, 2], [-1, 0, 1]]\n"
     ]
    }
   ],
   "source": [
    "final = []\n",
    "\n",
    "for x in range(len(lst)-1):\n",
    "\n",
    "    if lst[x]>0: break #[7]\n",
    "        \n",
    "    if x>0 and lst[x]==lst[x-1]: continue #[1]\n",
    "        \n",
    "    l, r = x + 1, len(lst)-1\n",
    "    \n",
    "    \n",
    "    while l < r:\n",
    "        \n",
    "        total = lst[x] + lst[l] + lst[r]\n",
    "\n",
    "        \n",
    "        if total > 0:\n",
    "            \n",
    "            r -= 1\n",
    "        \n",
    "        elif total < 0:\n",
    "            \n",
    "            l += 1\n",
    "        \n",
    "        else:\n",
    "            \n",
    "            final.append([lst[x], lst[l], lst[r]])\n",
    "            while l<r and lst[l]==lst[l+1]: #[6]\n",
    "                l+=1\n",
    "            while l<r and lst[r]==lst[r-1]: #[6]\n",
    "                r-=1\n",
    "            l += 1\n",
    "            r -= 1\n",
    "#     print(lst[x], lst[l], lst[r])\n",
    "            \n",
    "print(final)\n",
    "        "
   ]
  },
  {
   "cell_type": "markdown",
   "metadata": {},
   "source": [
    "# Longest Substring Without Repeating Characters    "
   ]
  },
  {
   "cell_type": "markdown",
   "metadata": {},
   "source": [
    "Need 3 temporary variables to find the longest substring: start, maxLength,\n",
    "and usedChars.\n",
    "Start by walking through string of characters, one at a time.\n",
    "Check if the current character is in the usedChars map, this would mean we\n",
    "have already seen it and have stored it's corresponding index.\n",
    "If it's in there and the start index is <= that index, update start\n",
    "to the last seen duplicate's index+1. This will put the start index at just\n",
    "past the current value's last seen duplicate. This allows us to have the\n",
    "longest possible substring that does not contain duplicates.\n",
    "If it's not in the usedChars map, we can calculate the longest substring\n",
    "seen so far. Just take the current index minus the start index. If that\n",
    "value is longer than maxLength, set maxLength to it.\n",
    "Finally, update the usedChars map to contain the current value that we just\n",
    "finished processing."
   ]
  },
  {
   "cell_type": "code",
   "execution_count": 115,
   "metadata": {},
   "outputs": [],
   "source": [
    "s = \"abcabcbb\""
   ]
  },
  {
   "cell_type": "code",
   "execution_count": 127,
   "metadata": {},
   "outputs": [],
   "source": [
    "class Solution:\n",
    "    # @return an integer\n",
    "    def lengthOfLongestSubstring(self, s):\n",
    "        start = maxLength = 0\n",
    "        usedChar = {}\n",
    "        \n",
    "        for i in range(len(s)):\n",
    "            if s[i] in usedChar and start <= usedChar[s[i]]:\n",
    "                start = usedChar[s[i]] + 1\n",
    "#                 print(start)\n",
    "            else:\n",
    "                maxLength = max(maxLength, i - start + 1)\n",
    "                print(maxLength)\n",
    "            usedChar[s[i]] = i\n",
    "\n",
    "        return maxLength"
   ]
  },
  {
   "cell_type": "code",
   "execution_count": null,
   "metadata": {},
   "outputs": [],
   "source": []
  },
  {
   "cell_type": "code",
   "execution_count": 128,
   "metadata": {},
   "outputs": [],
   "source": [
    "a = Solution()"
   ]
  },
  {
   "cell_type": "code",
   "execution_count": 129,
   "metadata": {},
   "outputs": [
    {
     "name": "stdout",
     "output_type": "stream",
     "text": [
      "1\n",
      "2\n",
      "3\n"
     ]
    },
    {
     "data": {
      "text/plain": [
       "3"
      ]
     },
     "execution_count": 129,
     "metadata": {},
     "output_type": "execute_result"
    }
   ],
   "source": [
    "a.lengthOfLongestSubstring(\"abcabcbb\")"
   ]
  },
  {
   "cell_type": "code",
   "execution_count": null,
   "metadata": {},
   "outputs": [],
   "source": []
  }
 ],
 "metadata": {
  "kernelspec": {
   "display_name": "Python 3",
   "language": "python",
   "name": "python3"
  },
  "language_info": {
   "codemirror_mode": {
    "name": "ipython",
    "version": 3
   },
   "file_extension": ".py",
   "mimetype": "text/x-python",
   "name": "python",
   "nbconvert_exporter": "python",
   "pygments_lexer": "ipython3",
   "version": "3.7.4"
  }
 },
 "nbformat": 4,
 "nbformat_minor": 4
}
